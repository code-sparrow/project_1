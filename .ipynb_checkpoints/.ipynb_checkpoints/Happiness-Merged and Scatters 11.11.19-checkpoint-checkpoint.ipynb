{
 "cells": [
  {
   "cell_type": "code",
   "execution_count": 3,
   "metadata": {},
   "outputs": [
    {
     "ename": "FileNotFoundError",
     "evalue": "[Errno 2] File b'Resources/world-happiness-report-2019 kaggle.csv' does not exist: b'Resources/world-happiness-report-2019 kaggle.csv'",
     "output_type": "error",
     "traceback": [
      "\u001b[1;31m---------------------------------------------------------------------------\u001b[0m",
      "\u001b[1;31mFileNotFoundError\u001b[0m                         Traceback (most recent call last)",
      "\u001b[1;32m<ipython-input-3-f3eeeed22834>\u001b[0m in \u001b[0;36m<module>\u001b[1;34m\u001b[0m\n\u001b[0;32m     10\u001b[0m \u001b[1;33m\u001b[0m\u001b[0m\n\u001b[0;32m     11\u001b[0m \u001b[1;31m#Load dataframes\u001b[0m\u001b[1;33m\u001b[0m\u001b[1;33m\u001b[0m\u001b[1;33m\u001b[0m\u001b[0m\n\u001b[1;32m---> 12\u001b[1;33m \u001b[0mhappiness_df\u001b[0m \u001b[1;33m=\u001b[0m \u001b[0mpd\u001b[0m\u001b[1;33m.\u001b[0m\u001b[0mread_csv\u001b[0m\u001b[1;33m(\u001b[0m\u001b[0mhappiness_path\u001b[0m\u001b[1;33m)\u001b[0m\u001b[1;33m\u001b[0m\u001b[1;33m\u001b[0m\u001b[0m\n\u001b[0m\u001b[0;32m     13\u001b[0m \u001b[0mpop_density_df\u001b[0m \u001b[1;33m=\u001b[0m \u001b[0mpd\u001b[0m\u001b[1;33m.\u001b[0m\u001b[0mread_csv\u001b[0m\u001b[1;33m(\u001b[0m\u001b[0mpop_density_path\u001b[0m\u001b[1;33m)\u001b[0m\u001b[1;33m\u001b[0m\u001b[1;33m\u001b[0m\u001b[0m\n",
      "\u001b[1;32m~\\Anaconda3\\lib\\site-packages\\pandas\\io\\parsers.py\u001b[0m in \u001b[0;36mparser_f\u001b[1;34m(filepath_or_buffer, sep, delimiter, header, names, index_col, usecols, squeeze, prefix, mangle_dupe_cols, dtype, engine, converters, true_values, false_values, skipinitialspace, skiprows, skipfooter, nrows, na_values, keep_default_na, na_filter, verbose, skip_blank_lines, parse_dates, infer_datetime_format, keep_date_col, date_parser, dayfirst, iterator, chunksize, compression, thousands, decimal, lineterminator, quotechar, quoting, doublequote, escapechar, comment, encoding, dialect, tupleize_cols, error_bad_lines, warn_bad_lines, delim_whitespace, low_memory, memory_map, float_precision)\u001b[0m\n\u001b[0;32m    700\u001b[0m                     skip_blank_lines=skip_blank_lines)\n\u001b[0;32m    701\u001b[0m \u001b[1;33m\u001b[0m\u001b[0m\n\u001b[1;32m--> 702\u001b[1;33m         \u001b[1;32mreturn\u001b[0m \u001b[0m_read\u001b[0m\u001b[1;33m(\u001b[0m\u001b[0mfilepath_or_buffer\u001b[0m\u001b[1;33m,\u001b[0m \u001b[0mkwds\u001b[0m\u001b[1;33m)\u001b[0m\u001b[1;33m\u001b[0m\u001b[1;33m\u001b[0m\u001b[0m\n\u001b[0m\u001b[0;32m    703\u001b[0m \u001b[1;33m\u001b[0m\u001b[0m\n\u001b[0;32m    704\u001b[0m     \u001b[0mparser_f\u001b[0m\u001b[1;33m.\u001b[0m\u001b[0m__name__\u001b[0m \u001b[1;33m=\u001b[0m \u001b[0mname\u001b[0m\u001b[1;33m\u001b[0m\u001b[1;33m\u001b[0m\u001b[0m\n",
      "\u001b[1;32m~\\Anaconda3\\lib\\site-packages\\pandas\\io\\parsers.py\u001b[0m in \u001b[0;36m_read\u001b[1;34m(filepath_or_buffer, kwds)\u001b[0m\n\u001b[0;32m    427\u001b[0m \u001b[1;33m\u001b[0m\u001b[0m\n\u001b[0;32m    428\u001b[0m     \u001b[1;31m# Create the parser.\u001b[0m\u001b[1;33m\u001b[0m\u001b[1;33m\u001b[0m\u001b[1;33m\u001b[0m\u001b[0m\n\u001b[1;32m--> 429\u001b[1;33m     \u001b[0mparser\u001b[0m \u001b[1;33m=\u001b[0m \u001b[0mTextFileReader\u001b[0m\u001b[1;33m(\u001b[0m\u001b[0mfilepath_or_buffer\u001b[0m\u001b[1;33m,\u001b[0m \u001b[1;33m**\u001b[0m\u001b[0mkwds\u001b[0m\u001b[1;33m)\u001b[0m\u001b[1;33m\u001b[0m\u001b[1;33m\u001b[0m\u001b[0m\n\u001b[0m\u001b[0;32m    430\u001b[0m \u001b[1;33m\u001b[0m\u001b[0m\n\u001b[0;32m    431\u001b[0m     \u001b[1;32mif\u001b[0m \u001b[0mchunksize\u001b[0m \u001b[1;32mor\u001b[0m \u001b[0miterator\u001b[0m\u001b[1;33m:\u001b[0m\u001b[1;33m\u001b[0m\u001b[1;33m\u001b[0m\u001b[0m\n",
      "\u001b[1;32m~\\Anaconda3\\lib\\site-packages\\pandas\\io\\parsers.py\u001b[0m in \u001b[0;36m__init__\u001b[1;34m(self, f, engine, **kwds)\u001b[0m\n\u001b[0;32m    893\u001b[0m             \u001b[0mself\u001b[0m\u001b[1;33m.\u001b[0m\u001b[0moptions\u001b[0m\u001b[1;33m[\u001b[0m\u001b[1;34m'has_index_names'\u001b[0m\u001b[1;33m]\u001b[0m \u001b[1;33m=\u001b[0m \u001b[0mkwds\u001b[0m\u001b[1;33m[\u001b[0m\u001b[1;34m'has_index_names'\u001b[0m\u001b[1;33m]\u001b[0m\u001b[1;33m\u001b[0m\u001b[1;33m\u001b[0m\u001b[0m\n\u001b[0;32m    894\u001b[0m \u001b[1;33m\u001b[0m\u001b[0m\n\u001b[1;32m--> 895\u001b[1;33m         \u001b[0mself\u001b[0m\u001b[1;33m.\u001b[0m\u001b[0m_make_engine\u001b[0m\u001b[1;33m(\u001b[0m\u001b[0mself\u001b[0m\u001b[1;33m.\u001b[0m\u001b[0mengine\u001b[0m\u001b[1;33m)\u001b[0m\u001b[1;33m\u001b[0m\u001b[1;33m\u001b[0m\u001b[0m\n\u001b[0m\u001b[0;32m    896\u001b[0m \u001b[1;33m\u001b[0m\u001b[0m\n\u001b[0;32m    897\u001b[0m     \u001b[1;32mdef\u001b[0m \u001b[0mclose\u001b[0m\u001b[1;33m(\u001b[0m\u001b[0mself\u001b[0m\u001b[1;33m)\u001b[0m\u001b[1;33m:\u001b[0m\u001b[1;33m\u001b[0m\u001b[1;33m\u001b[0m\u001b[0m\n",
      "\u001b[1;32m~\\Anaconda3\\lib\\site-packages\\pandas\\io\\parsers.py\u001b[0m in \u001b[0;36m_make_engine\u001b[1;34m(self, engine)\u001b[0m\n\u001b[0;32m   1120\u001b[0m     \u001b[1;32mdef\u001b[0m \u001b[0m_make_engine\u001b[0m\u001b[1;33m(\u001b[0m\u001b[0mself\u001b[0m\u001b[1;33m,\u001b[0m \u001b[0mengine\u001b[0m\u001b[1;33m=\u001b[0m\u001b[1;34m'c'\u001b[0m\u001b[1;33m)\u001b[0m\u001b[1;33m:\u001b[0m\u001b[1;33m\u001b[0m\u001b[1;33m\u001b[0m\u001b[0m\n\u001b[0;32m   1121\u001b[0m         \u001b[1;32mif\u001b[0m \u001b[0mengine\u001b[0m \u001b[1;33m==\u001b[0m \u001b[1;34m'c'\u001b[0m\u001b[1;33m:\u001b[0m\u001b[1;33m\u001b[0m\u001b[1;33m\u001b[0m\u001b[0m\n\u001b[1;32m-> 1122\u001b[1;33m             \u001b[0mself\u001b[0m\u001b[1;33m.\u001b[0m\u001b[0m_engine\u001b[0m \u001b[1;33m=\u001b[0m \u001b[0mCParserWrapper\u001b[0m\u001b[1;33m(\u001b[0m\u001b[0mself\u001b[0m\u001b[1;33m.\u001b[0m\u001b[0mf\u001b[0m\u001b[1;33m,\u001b[0m \u001b[1;33m**\u001b[0m\u001b[0mself\u001b[0m\u001b[1;33m.\u001b[0m\u001b[0moptions\u001b[0m\u001b[1;33m)\u001b[0m\u001b[1;33m\u001b[0m\u001b[1;33m\u001b[0m\u001b[0m\n\u001b[0m\u001b[0;32m   1123\u001b[0m         \u001b[1;32melse\u001b[0m\u001b[1;33m:\u001b[0m\u001b[1;33m\u001b[0m\u001b[1;33m\u001b[0m\u001b[0m\n\u001b[0;32m   1124\u001b[0m             \u001b[1;32mif\u001b[0m \u001b[0mengine\u001b[0m \u001b[1;33m==\u001b[0m \u001b[1;34m'python'\u001b[0m\u001b[1;33m:\u001b[0m\u001b[1;33m\u001b[0m\u001b[1;33m\u001b[0m\u001b[0m\n",
      "\u001b[1;32m~\\Anaconda3\\lib\\site-packages\\pandas\\io\\parsers.py\u001b[0m in \u001b[0;36m__init__\u001b[1;34m(self, src, **kwds)\u001b[0m\n\u001b[0;32m   1851\u001b[0m         \u001b[0mkwds\u001b[0m\u001b[1;33m[\u001b[0m\u001b[1;34m'usecols'\u001b[0m\u001b[1;33m]\u001b[0m \u001b[1;33m=\u001b[0m \u001b[0mself\u001b[0m\u001b[1;33m.\u001b[0m\u001b[0musecols\u001b[0m\u001b[1;33m\u001b[0m\u001b[1;33m\u001b[0m\u001b[0m\n\u001b[0;32m   1852\u001b[0m \u001b[1;33m\u001b[0m\u001b[0m\n\u001b[1;32m-> 1853\u001b[1;33m         \u001b[0mself\u001b[0m\u001b[1;33m.\u001b[0m\u001b[0m_reader\u001b[0m \u001b[1;33m=\u001b[0m \u001b[0mparsers\u001b[0m\u001b[1;33m.\u001b[0m\u001b[0mTextReader\u001b[0m\u001b[1;33m(\u001b[0m\u001b[0msrc\u001b[0m\u001b[1;33m,\u001b[0m \u001b[1;33m**\u001b[0m\u001b[0mkwds\u001b[0m\u001b[1;33m)\u001b[0m\u001b[1;33m\u001b[0m\u001b[1;33m\u001b[0m\u001b[0m\n\u001b[0m\u001b[0;32m   1854\u001b[0m         \u001b[0mself\u001b[0m\u001b[1;33m.\u001b[0m\u001b[0munnamed_cols\u001b[0m \u001b[1;33m=\u001b[0m \u001b[0mself\u001b[0m\u001b[1;33m.\u001b[0m\u001b[0m_reader\u001b[0m\u001b[1;33m.\u001b[0m\u001b[0munnamed_cols\u001b[0m\u001b[1;33m\u001b[0m\u001b[1;33m\u001b[0m\u001b[0m\n\u001b[0;32m   1855\u001b[0m \u001b[1;33m\u001b[0m\u001b[0m\n",
      "\u001b[1;32mpandas/_libs/parsers.pyx\u001b[0m in \u001b[0;36mpandas._libs.parsers.TextReader.__cinit__\u001b[1;34m()\u001b[0m\n",
      "\u001b[1;32mpandas/_libs/parsers.pyx\u001b[0m in \u001b[0;36mpandas._libs.parsers.TextReader._setup_parser_source\u001b[1;34m()\u001b[0m\n",
      "\u001b[1;31mFileNotFoundError\u001b[0m: [Errno 2] File b'Resources/world-happiness-report-2019 kaggle.csv' does not exist: b'Resources/world-happiness-report-2019 kaggle.csv'"
     ]
    }
   ],
   "source": [
    "#Import Libraries\n",
    "import matplotlib.pyplot as plt\n",
    "import pandas as pd\n",
    "import numpy as np\n",
    "from scipy.stats import sem\n",
    "\n",
    "#File paths for CSV files\n",
    "happiness_path = \"Resources/world-happiness-report-2019 kaggle.csv\"\n",
    "pop_density_path = \"Resources/world population density data 2019.csv\"\n",
    "\n",
    "#Load dataframes\n",
    "happiness_df = pd.read_csv(happiness_path)\n",
    "pop_density_df = pd.read_csv(pop_density_path)"
   ]
  },
  {
   "cell_type": "code",
   "execution_count": 3,
   "metadata": {},
   "outputs": [
    {
     "name": "stdout",
     "output_type": "stream",
     "text": [
      "<class 'pandas.core.frame.DataFrame'>\n",
      "RangeIndex: 150 entries, 0 to 149\n",
      "Data columns (total 11 columns):\n",
      "Country (region)           150 non-null object\n",
      "Ladder                     150 non-null int64\n",
      "SD of Ladder               150 non-null int64\n",
      "Positive affect            149 non-null float64\n",
      "Negative affect            149 non-null float64\n",
      "Social support             149 non-null float64\n",
      "Freedom                    149 non-null float64\n",
      "Corruption                 142 non-null float64\n",
      "Generosity                 149 non-null float64\n",
      "Log of GDP\n",
      "per capita      147 non-null float64\n",
      "Healthy life\n",
      "expectancy    147 non-null float64\n",
      "dtypes: float64(8), int64(2), object(1)\n",
      "memory usage: 13.0+ KB\n",
      "None \n",
      "\n",
      "<class 'pandas.core.frame.DataFrame'>\n",
      "RangeIndex: 150 entries, 0 to 149\n",
      "Data columns (total 6 columns):\n",
      "rank         150 non-null int64\n",
      "name         150 non-null object\n",
      "density      150 non-null float64\n",
      "densityMi    150 non-null float64\n",
      "pop2019      150 non-null float64\n",
      "area         150 non-null int64\n",
      "dtypes: float64(3), int64(2), object(1)\n",
      "memory usage: 7.1+ KB\n",
      "None\n"
     ]
    }
   ],
   "source": [
    "print(happiness_df.info(), \"\\n\")\n",
    "print(pop_density_df.info())"
   ]
  },
  {
   "cell_type": "code",
   "execution_count": 4,
   "metadata": {},
   "outputs": [
    {
     "data": {
      "text/html": [
       "<div>\n",
       "<style scoped>\n",
       "    .dataframe tbody tr th:only-of-type {\n",
       "        vertical-align: middle;\n",
       "    }\n",
       "\n",
       "    .dataframe tbody tr th {\n",
       "        vertical-align: top;\n",
       "    }\n",
       "\n",
       "    .dataframe thead th {\n",
       "        text-align: right;\n",
       "    }\n",
       "</style>\n",
       "<table border=\"1\" class=\"dataframe\">\n",
       "  <thead>\n",
       "    <tr style=\"text-align: right;\">\n",
       "      <th></th>\n",
       "      <th>Country (region)</th>\n",
       "      <th>Ladder</th>\n",
       "      <th>SD of Ladder</th>\n",
       "      <th>Positive affect</th>\n",
       "      <th>Negative affect</th>\n",
       "      <th>Social support</th>\n",
       "      <th>Freedom</th>\n",
       "      <th>Corruption</th>\n",
       "      <th>Generosity</th>\n",
       "      <th>Log of GDP\n",
       "per capita</th>\n",
       "      <th>Healthy life\n",
       "expectancy</th>\n",
       "    </tr>\n",
       "  </thead>\n",
       "  <tbody>\n",
       "    <tr>\n",
       "      <th>0</th>\n",
       "      <td>Afghanistan</td>\n",
       "      <td>154</td>\n",
       "      <td>25</td>\n",
       "      <td>152.0</td>\n",
       "      <td>133.0</td>\n",
       "      <td>151.0</td>\n",
       "      <td>155.0</td>\n",
       "      <td>136.0</td>\n",
       "      <td>137.0</td>\n",
       "      <td>134.0</td>\n",
       "      <td>139.0</td>\n",
       "    </tr>\n",
       "    <tr>\n",
       "      <th>1</th>\n",
       "      <td>Albania</td>\n",
       "      <td>107</td>\n",
       "      <td>126</td>\n",
       "      <td>90.0</td>\n",
       "      <td>108.0</td>\n",
       "      <td>133.0</td>\n",
       "      <td>87.0</td>\n",
       "      <td>134.0</td>\n",
       "      <td>60.0</td>\n",
       "      <td>81.0</td>\n",
       "      <td>40.0</td>\n",
       "    </tr>\n",
       "    <tr>\n",
       "      <th>2</th>\n",
       "      <td>Algeria</td>\n",
       "      <td>88</td>\n",
       "      <td>56</td>\n",
       "      <td>113.0</td>\n",
       "      <td>106.0</td>\n",
       "      <td>101.0</td>\n",
       "      <td>149.0</td>\n",
       "      <td>46.0</td>\n",
       "      <td>128.0</td>\n",
       "      <td>72.0</td>\n",
       "      <td>78.0</td>\n",
       "    </tr>\n",
       "    <tr>\n",
       "      <th>3</th>\n",
       "      <td>Argentina</td>\n",
       "      <td>47</td>\n",
       "      <td>97</td>\n",
       "      <td>28.0</td>\n",
       "      <td>93.0</td>\n",
       "      <td>46.0</td>\n",
       "      <td>54.0</td>\n",
       "      <td>109.0</td>\n",
       "      <td>123.0</td>\n",
       "      <td>55.0</td>\n",
       "      <td>37.0</td>\n",
       "    </tr>\n",
       "    <tr>\n",
       "      <th>4</th>\n",
       "      <td>Armenia</td>\n",
       "      <td>116</td>\n",
       "      <td>82</td>\n",
       "      <td>126.0</td>\n",
       "      <td>145.0</td>\n",
       "      <td>117.0</td>\n",
       "      <td>123.0</td>\n",
       "      <td>93.0</td>\n",
       "      <td>129.0</td>\n",
       "      <td>91.0</td>\n",
       "      <td>64.0</td>\n",
       "    </tr>\n",
       "  </tbody>\n",
       "</table>\n",
       "</div>"
      ],
      "text/plain": [
       "  Country (region)  Ladder  SD of Ladder  Positive affect  Negative affect  \\\n",
       "0      Afghanistan     154            25            152.0            133.0   \n",
       "1          Albania     107           126             90.0            108.0   \n",
       "2          Algeria      88            56            113.0            106.0   \n",
       "3        Argentina      47            97             28.0             93.0   \n",
       "4          Armenia     116            82            126.0            145.0   \n",
       "\n",
       "   Social support  Freedom  Corruption  Generosity  Log of GDP\\nper capita  \\\n",
       "0           151.0    155.0       136.0       137.0                   134.0   \n",
       "1           133.0     87.0       134.0        60.0                    81.0   \n",
       "2           101.0    149.0        46.0       128.0                    72.0   \n",
       "3            46.0     54.0       109.0       123.0                    55.0   \n",
       "4           117.0    123.0        93.0       129.0                    91.0   \n",
       "\n",
       "   Healthy life\\nexpectancy  \n",
       "0                     139.0  \n",
       "1                      40.0  \n",
       "2                      78.0  \n",
       "3                      37.0  \n",
       "4                      64.0  "
      ]
     },
     "execution_count": 4,
     "metadata": {},
     "output_type": "execute_result"
    }
   ],
   "source": [
    "happiness_df.head()"
   ]
  },
  {
   "cell_type": "code",
   "execution_count": 5,
   "metadata": {},
   "outputs": [
    {
     "data": {
      "text/html": [
       "<div>\n",
       "<style scoped>\n",
       "    .dataframe tbody tr th:only-of-type {\n",
       "        vertical-align: middle;\n",
       "    }\n",
       "\n",
       "    .dataframe tbody tr th {\n",
       "        vertical-align: top;\n",
       "    }\n",
       "\n",
       "    .dataframe thead th {\n",
       "        text-align: right;\n",
       "    }\n",
       "</style>\n",
       "<table border=\"1\" class=\"dataframe\">\n",
       "  <thead>\n",
       "    <tr style=\"text-align: right;\">\n",
       "      <th></th>\n",
       "      <th>rank</th>\n",
       "      <th>name</th>\n",
       "      <th>density</th>\n",
       "      <th>densityMi</th>\n",
       "      <th>pop2019</th>\n",
       "      <th>area</th>\n",
       "    </tr>\n",
       "  </thead>\n",
       "  <tbody>\n",
       "    <tr>\n",
       "      <th>0</th>\n",
       "      <td>1</td>\n",
       "      <td>Afghanistan</td>\n",
       "      <td>58.3257</td>\n",
       "      <td>151.0635</td>\n",
       "      <td>38041.754</td>\n",
       "      <td>652230</td>\n",
       "    </tr>\n",
       "    <tr>\n",
       "      <th>1</th>\n",
       "      <td>2</td>\n",
       "      <td>Albania</td>\n",
       "      <td>100.2128</td>\n",
       "      <td>259.5511</td>\n",
       "      <td>2880.917</td>\n",
       "      <td>28748</td>\n",
       "    </tr>\n",
       "    <tr>\n",
       "      <th>2</th>\n",
       "      <td>3</td>\n",
       "      <td>Algeria</td>\n",
       "      <td>18.0763</td>\n",
       "      <td>46.8176</td>\n",
       "      <td>43053.054</td>\n",
       "      <td>2381741</td>\n",
       "    </tr>\n",
       "    <tr>\n",
       "      <th>3</th>\n",
       "      <td>4</td>\n",
       "      <td>Argentina</td>\n",
       "      <td>16.1058</td>\n",
       "      <td>41.7141</td>\n",
       "      <td>44780.677</td>\n",
       "      <td>2780400</td>\n",
       "    </tr>\n",
       "    <tr>\n",
       "      <th>4</th>\n",
       "      <td>5</td>\n",
       "      <td>Armenia</td>\n",
       "      <td>99.4429</td>\n",
       "      <td>257.5572</td>\n",
       "      <td>2957.731</td>\n",
       "      <td>29743</td>\n",
       "    </tr>\n",
       "  </tbody>\n",
       "</table>\n",
       "</div>"
      ],
      "text/plain": [
       "   rank         name   density  densityMi    pop2019     area\n",
       "0     1  Afghanistan   58.3257   151.0635  38041.754   652230\n",
       "1     2      Albania  100.2128   259.5511   2880.917    28748\n",
       "2     3      Algeria   18.0763    46.8176  43053.054  2381741\n",
       "3     4    Argentina   16.1058    41.7141  44780.677  2780400\n",
       "4     5      Armenia   99.4429   257.5572   2957.731    29743"
      ]
     },
     "execution_count": 5,
     "metadata": {},
     "output_type": "execute_result"
    }
   ],
   "source": [
    "pop_density_df.head()"
   ]
  },
  {
   "cell_type": "code",
   "execution_count": 6,
   "metadata": {},
   "outputs": [
    {
     "data": {
      "text/html": [
       "<div>\n",
       "<style scoped>\n",
       "    .dataframe tbody tr th:only-of-type {\n",
       "        vertical-align: middle;\n",
       "    }\n",
       "\n",
       "    .dataframe tbody tr th {\n",
       "        vertical-align: top;\n",
       "    }\n",
       "\n",
       "    .dataframe thead th {\n",
       "        text-align: right;\n",
       "    }\n",
       "</style>\n",
       "<table border=\"1\" class=\"dataframe\">\n",
       "  <thead>\n",
       "    <tr style=\"text-align: right;\">\n",
       "      <th></th>\n",
       "      <th>Country</th>\n",
       "      <th>Ladder</th>\n",
       "      <th>SD of Ladder</th>\n",
       "      <th>Positive affect</th>\n",
       "      <th>Negative affect</th>\n",
       "      <th>Social support</th>\n",
       "      <th>Freedom</th>\n",
       "      <th>Corruption</th>\n",
       "      <th>Generosity</th>\n",
       "      <th>Log of GDP\n",
       "per capita</th>\n",
       "      <th>Healthy life\n",
       "expectancy</th>\n",
       "      <th>rank</th>\n",
       "      <th>density</th>\n",
       "      <th>densityMi</th>\n",
       "      <th>pop2019</th>\n",
       "      <th>area</th>\n",
       "    </tr>\n",
       "  </thead>\n",
       "  <tbody>\n",
       "    <tr>\n",
       "      <th>0</th>\n",
       "      <td>Afghanistan</td>\n",
       "      <td>154</td>\n",
       "      <td>25</td>\n",
       "      <td>152.0</td>\n",
       "      <td>133.0</td>\n",
       "      <td>151.0</td>\n",
       "      <td>155.0</td>\n",
       "      <td>136.0</td>\n",
       "      <td>137.0</td>\n",
       "      <td>134.0</td>\n",
       "      <td>139.0</td>\n",
       "      <td>1</td>\n",
       "      <td>58.3257</td>\n",
       "      <td>151.0635</td>\n",
       "      <td>38041.754</td>\n",
       "      <td>652230</td>\n",
       "    </tr>\n",
       "    <tr>\n",
       "      <th>1</th>\n",
       "      <td>Albania</td>\n",
       "      <td>107</td>\n",
       "      <td>126</td>\n",
       "      <td>90.0</td>\n",
       "      <td>108.0</td>\n",
       "      <td>133.0</td>\n",
       "      <td>87.0</td>\n",
       "      <td>134.0</td>\n",
       "      <td>60.0</td>\n",
       "      <td>81.0</td>\n",
       "      <td>40.0</td>\n",
       "      <td>2</td>\n",
       "      <td>100.2128</td>\n",
       "      <td>259.5511</td>\n",
       "      <td>2880.917</td>\n",
       "      <td>28748</td>\n",
       "    </tr>\n",
       "    <tr>\n",
       "      <th>2</th>\n",
       "      <td>Algeria</td>\n",
       "      <td>88</td>\n",
       "      <td>56</td>\n",
       "      <td>113.0</td>\n",
       "      <td>106.0</td>\n",
       "      <td>101.0</td>\n",
       "      <td>149.0</td>\n",
       "      <td>46.0</td>\n",
       "      <td>128.0</td>\n",
       "      <td>72.0</td>\n",
       "      <td>78.0</td>\n",
       "      <td>3</td>\n",
       "      <td>18.0763</td>\n",
       "      <td>46.8176</td>\n",
       "      <td>43053.054</td>\n",
       "      <td>2381741</td>\n",
       "    </tr>\n",
       "    <tr>\n",
       "      <th>3</th>\n",
       "      <td>Argentina</td>\n",
       "      <td>47</td>\n",
       "      <td>97</td>\n",
       "      <td>28.0</td>\n",
       "      <td>93.0</td>\n",
       "      <td>46.0</td>\n",
       "      <td>54.0</td>\n",
       "      <td>109.0</td>\n",
       "      <td>123.0</td>\n",
       "      <td>55.0</td>\n",
       "      <td>37.0</td>\n",
       "      <td>4</td>\n",
       "      <td>16.1058</td>\n",
       "      <td>41.7141</td>\n",
       "      <td>44780.677</td>\n",
       "      <td>2780400</td>\n",
       "    </tr>\n",
       "    <tr>\n",
       "      <th>4</th>\n",
       "      <td>Armenia</td>\n",
       "      <td>116</td>\n",
       "      <td>82</td>\n",
       "      <td>126.0</td>\n",
       "      <td>145.0</td>\n",
       "      <td>117.0</td>\n",
       "      <td>123.0</td>\n",
       "      <td>93.0</td>\n",
       "      <td>129.0</td>\n",
       "      <td>91.0</td>\n",
       "      <td>64.0</td>\n",
       "      <td>5</td>\n",
       "      <td>99.4429</td>\n",
       "      <td>257.5572</td>\n",
       "      <td>2957.731</td>\n",
       "      <td>29743</td>\n",
       "    </tr>\n",
       "  </tbody>\n",
       "</table>\n",
       "</div>"
      ],
      "text/plain": [
       "       Country  Ladder  SD of Ladder  Positive affect  Negative affect  \\\n",
       "0  Afghanistan     154            25            152.0            133.0   \n",
       "1      Albania     107           126             90.0            108.0   \n",
       "2      Algeria      88            56            113.0            106.0   \n",
       "3    Argentina      47            97             28.0             93.0   \n",
       "4      Armenia     116            82            126.0            145.0   \n",
       "\n",
       "   Social support  Freedom  Corruption  Generosity  Log of GDP\\nper capita  \\\n",
       "0           151.0    155.0       136.0       137.0                   134.0   \n",
       "1           133.0     87.0       134.0        60.0                    81.0   \n",
       "2           101.0    149.0        46.0       128.0                    72.0   \n",
       "3            46.0     54.0       109.0       123.0                    55.0   \n",
       "4           117.0    123.0        93.0       129.0                    91.0   \n",
       "\n",
       "   Healthy life\\nexpectancy  rank   density  densityMi    pop2019     area  \n",
       "0                     139.0     1   58.3257   151.0635  38041.754   652230  \n",
       "1                      40.0     2  100.2128   259.5511   2880.917    28748  \n",
       "2                      78.0     3   18.0763    46.8176  43053.054  2381741  \n",
       "3                      37.0     4   16.1058    41.7141  44780.677  2780400  \n",
       "4                      64.0     5   99.4429   257.5572   2957.731    29743  "
      ]
     },
     "execution_count": 6,
     "metadata": {},
     "output_type": "execute_result"
    }
   ],
   "source": [
    "happiness_df.rename(columns={\"Country (region)\" : \"Country\"}, inplace=True)\n",
    "pop_density_df.rename(columns={\"name\" : \"Country\"}, inplace=True)\n",
    "merged_df = pd.merge(happiness_df, pop_density_df, on=\"Country\")\n",
    "merged_df.head()"
   ]
  },
  {
   "cell_type": "code",
   "execution_count": 7,
   "metadata": {},
   "outputs": [
    {
     "name": "stdout",
     "output_type": "stream",
     "text": [
      "<class 'pandas.core.frame.DataFrame'>\n",
      "Int64Index: 150 entries, 0 to 149\n",
      "Data columns (total 16 columns):\n",
      "Country                    150 non-null object\n",
      "Ladder                     150 non-null int64\n",
      "SD of Ladder               150 non-null int64\n",
      "Positive affect            149 non-null float64\n",
      "Negative affect            149 non-null float64\n",
      "Social support             149 non-null float64\n",
      "Freedom                    149 non-null float64\n",
      "Corruption                 142 non-null float64\n",
      "Generosity                 149 non-null float64\n",
      "Log of GDP\n",
      "per capita      147 non-null float64\n",
      "Healthy life\n",
      "expectancy    147 non-null float64\n",
      "rank                       150 non-null int64\n",
      "density                    150 non-null float64\n",
      "densityMi                  150 non-null float64\n",
      "pop2019                    150 non-null float64\n",
      "area                       150 non-null int64\n",
      "dtypes: float64(11), int64(4), object(1)\n",
      "memory usage: 19.9+ KB\n"
     ]
    }
   ],
   "source": [
    "merged_df.info()"
   ]
  },
  {
   "cell_type": "code",
   "execution_count": 8,
   "metadata": {},
   "outputs": [
    {
     "data": {
      "text/html": [
       "<div>\n",
       "<style scoped>\n",
       "    .dataframe tbody tr th:only-of-type {\n",
       "        vertical-align: middle;\n",
       "    }\n",
       "\n",
       "    .dataframe tbody tr th {\n",
       "        vertical-align: top;\n",
       "    }\n",
       "\n",
       "    .dataframe thead th {\n",
       "        text-align: right;\n",
       "    }\n",
       "</style>\n",
       "<table border=\"1\" class=\"dataframe\">\n",
       "  <thead>\n",
       "    <tr style=\"text-align: right;\">\n",
       "      <th></th>\n",
       "      <th>Country</th>\n",
       "      <th>Ladder</th>\n",
       "      <th>density</th>\n",
       "      <th>pop2019</th>\n",
       "      <th>area</th>\n",
       "    </tr>\n",
       "  </thead>\n",
       "  <tbody>\n",
       "    <tr>\n",
       "      <th>0</th>\n",
       "      <td>Afghanistan</td>\n",
       "      <td>154</td>\n",
       "      <td>58.3257</td>\n",
       "      <td>38041.754</td>\n",
       "      <td>652230</td>\n",
       "    </tr>\n",
       "    <tr>\n",
       "      <th>1</th>\n",
       "      <td>Albania</td>\n",
       "      <td>107</td>\n",
       "      <td>100.2128</td>\n",
       "      <td>2880.917</td>\n",
       "      <td>28748</td>\n",
       "    </tr>\n",
       "    <tr>\n",
       "      <th>2</th>\n",
       "      <td>Algeria</td>\n",
       "      <td>88</td>\n",
       "      <td>18.0763</td>\n",
       "      <td>43053.054</td>\n",
       "      <td>2381741</td>\n",
       "    </tr>\n",
       "    <tr>\n",
       "      <th>3</th>\n",
       "      <td>Argentina</td>\n",
       "      <td>47</td>\n",
       "      <td>16.1058</td>\n",
       "      <td>44780.677</td>\n",
       "      <td>2780400</td>\n",
       "    </tr>\n",
       "    <tr>\n",
       "      <th>4</th>\n",
       "      <td>Armenia</td>\n",
       "      <td>116</td>\n",
       "      <td>99.4429</td>\n",
       "      <td>2957.731</td>\n",
       "      <td>29743</td>\n",
       "    </tr>\n",
       "  </tbody>\n",
       "</table>\n",
       "</div>"
      ],
      "text/plain": [
       "       Country  Ladder   density    pop2019     area\n",
       "0  Afghanistan     154   58.3257  38041.754   652230\n",
       "1      Albania     107  100.2128   2880.917    28748\n",
       "2      Algeria      88   18.0763  43053.054  2381741\n",
       "3    Argentina      47   16.1058  44780.677  2780400\n",
       "4      Armenia     116   99.4429   2957.731    29743"
      ]
     },
     "execution_count": 8,
     "metadata": {},
     "output_type": "execute_result"
    }
   ],
   "source": [
    "#data frame with values we care about\n",
    "density_df = pd.DataFrame(merged_df, columns = ['Country', 'Ladder', 'density', 'pop2019', 'area'])\n",
    "density_df.head()"
   ]
  },
  {
   "cell_type": "code",
   "execution_count": 9,
   "metadata": {},
   "outputs": [
    {
     "data": {
      "text/plain": [
       "Country      pop2019  \n",
       "Afghanistan  38041.754     58.3257\n",
       "Albania      2880.917     100.2128\n",
       "Algeria      43053.054     18.0763\n",
       "Argentina    44780.677     16.1058\n",
       "Armenia      2957.731      99.4429\n",
       "Name: density, dtype: float64"
      ]
     },
     "execution_count": 9,
     "metadata": {},
     "output_type": "execute_result"
    }
   ],
   "source": [
    "#grouping by max density\n",
    "max_df = merged_df.groupby(['Country', 'pop2019'])['density'].max()\n",
    "max_df.head()\n"
   ]
  },
  {
   "cell_type": "code",
   "execution_count": 10,
   "metadata": {},
   "outputs": [
    {
     "data": {
      "text/html": [
       "<div>\n",
       "<style scoped>\n",
       "    .dataframe tbody tr th:only-of-type {\n",
       "        vertical-align: middle;\n",
       "    }\n",
       "\n",
       "    .dataframe tbody tr th {\n",
       "        vertical-align: top;\n",
       "    }\n",
       "\n",
       "    .dataframe thead th {\n",
       "        text-align: right;\n",
       "    }\n",
       "</style>\n",
       "<table border=\"1\" class=\"dataframe\">\n",
       "  <thead>\n",
       "    <tr style=\"text-align: right;\">\n",
       "      <th></th>\n",
       "      <th></th>\n",
       "      <th>Ladder</th>\n",
       "    </tr>\n",
       "    <tr>\n",
       "      <th>Country</th>\n",
       "      <th>density</th>\n",
       "      <th></th>\n",
       "    </tr>\n",
       "  </thead>\n",
       "  <tbody>\n",
       "    <tr>\n",
       "      <th>Afghanistan</th>\n",
       "      <th>58.3257</th>\n",
       "      <td>154</td>\n",
       "    </tr>\n",
       "    <tr>\n",
       "      <th>Albania</th>\n",
       "      <th>100.2128</th>\n",
       "      <td>107</td>\n",
       "    </tr>\n",
       "    <tr>\n",
       "      <th>Algeria</th>\n",
       "      <th>18.0763</th>\n",
       "      <td>88</td>\n",
       "    </tr>\n",
       "    <tr>\n",
       "      <th>Argentina</th>\n",
       "      <th>16.1058</th>\n",
       "      <td>47</td>\n",
       "    </tr>\n",
       "    <tr>\n",
       "      <th>Armenia</th>\n",
       "      <th>99.4429</th>\n",
       "      <td>116</td>\n",
       "    </tr>\n",
       "  </tbody>\n",
       "</table>\n",
       "</div>"
      ],
      "text/plain": [
       "                      Ladder\n",
       "Country     density         \n",
       "Afghanistan 58.3257      154\n",
       "Albania     100.2128     107\n",
       "Algeria     18.0763       88\n",
       "Argentina   16.1058       47\n",
       "Armenia     99.4429      116"
      ]
     },
     "execution_count": 10,
     "metadata": {},
     "output_type": "execute_result"
    }
   ],
   "source": [
    "#grouping by max ladder\n",
    "happiness_score_df = merged_df.groupby(['Country', 'density'])['Ladder'].max()\n",
    "happiness_chart_df = pd.DataFrame(happiness_score_df)\n",
    "happiness_chart_df.head()"
   ]
  },
  {
   "cell_type": "code",
   "execution_count": 11,
   "metadata": {},
   "outputs": [
    {
     "data": {
      "image/png": "[encoded data removed]",
      "text/plain": [
       "<Figure size 432x288 with 1 Axes>"
      ]
     },
     "metadata": {
      "needs_background": "light"
     },
     "output_type": "display_data"
    }
   ],
   "source": [
    "#scatter plot\n",
    "plt.scatter(merged_df[\"Ladder\"], merged_df[\"density\"], edgecolors=\"black\")\n",
    "plt.grid()\n",
    "\n",
    "plt.title(\"Density vs Ladder\")\n",
    "plt.ylabel(\"density\")\n",
    "plt.xlabel(\"Ladder\")\n",
    "plt.show()"
   ]
  },
  {
   "cell_type": "code",
   "execution_count": 12,
   "metadata": {},
   "outputs": [
    {
     "data": {
      "image/png": "[encoded data removed]",
      "text/plain": [
       "<Figure size 432x288 with 1 Axes>"
      ]
     },
     "metadata": {
      "needs_background": "light"
     },
     "output_type": "display_data"
    }
   ],
   "source": [
    "#scatter plot\n",
    "plt.scatter(merged_df[\"Ladder\"], merged_df[\"pop2019\"], edgecolors=\"black\")\n",
    "plt.grid()\n",
    "\n",
    "plt.title(\"Population 2019 vs Ladder\")\n",
    "plt.ylabel(\"pop2019\")\n",
    "plt.xlabel(\"Ladder\")\n",
    "plt.show()"
   ]
  },
  {
   "cell_type": "code",
   "execution_count": 13,
   "metadata": {},
   "outputs": [
    {
     "data": {
      "image/png": "[encoded data removed]",
      "text/plain": [
       "<Figure size 432x288 with 1 Axes>"
      ]
     },
     "metadata": {
      "needs_background": "light"
     },
     "output_type": "display_data"
    }
   ],
   "source": [
    "#scatter plot\n",
    "plt.scatter(happiness_df[\"Ladder\"], happiness_df[\"Freedom\"], edgecolors=\"black\")\n",
    "plt.grid()\n",
    "\n",
    "plt.title(\"Freedom vs Ladder\")\n",
    "plt.ylabel(\"Freedom\")\n",
    "plt.xlabel(\"Ladder\")\n",
    "plt.show()"
   ]
  },
  {
   "cell_type": "code",
   "execution_count": 14,
   "metadata": {},
   "outputs": [
    {
     "data": {
      "image/png": "[encoded data removed]",
      "text/plain": [
       "<Figure size 432x288 with 1 Axes>"
      ]
     },
     "metadata": {
      "needs_background": "light"
     },
     "output_type": "display_data"
    }
   ],
   "source": [
    "#scatter plot\n",
    "plt.scatter(happiness_df[\"Ladder\"], happiness_df[\"Social support\"], edgecolors=\"black\")\n",
    "plt.grid()\n",
    "\n",
    "plt.title(\"Social support vs Ladder\")\n",
    "plt.ylabel(\"Social support\")\n",
    "plt.xlabel(\"Ladder\")\n",
    "plt.show()"
   ]
  },
  {
   "cell_type": "code",
   "execution_count": 15,
   "metadata": {},
   "outputs": [
    {
     "data": {
      "image/png": "[encoded data removed]",
      "text/plain": [
       "<Figure size 432x288 with 1 Axes>"
      ]
     },
     "metadata": {
      "needs_background": "light"
     },
     "output_type": "display_data"
    }
   ],
   "source": [
    "#scatter plot\n",
    "plt.scatter(happiness_df[\"Ladder\"], happiness_df[\"Healthy life\\nexpectancy\"], edgecolors=\"black\")\n",
    "plt.grid()\n",
    "\n",
    "plt.title(\"Health Expectancy vs Ladder\")\n",
    "plt.ylabel(\"Health Expectancy\")\n",
    "plt.xlabel(\"Ladder\")\n",
    "plt.show()"
   ]
  },
  {
   "cell_type": "code",
   "execution_count": 16,
   "metadata": {},
   "outputs": [
    {
     "data": {
      "image/png": "[encoded data removed]",
      "text/plain": [
       "<Figure size 432x288 with 1 Axes>"
      ]
     },
     "metadata": {
      "needs_background": "light"
     },
     "output_type": "display_data"
    }
   ],
   "source": [
    "#scatter plot\n",
    "plt.scatter(happiness_df[\"Ladder\"], happiness_df[\"Corruption\"], edgecolors=\"black\")\n",
    "plt.grid()\n",
    "\n",
    "plt.title(\"Corruption vs Ladder\")\n",
    "plt.ylabel(\"Corruption\")\n",
    "plt.xlabel(\"Ladder\")\n",
    "plt.show()"
   ]
  },
  {
   "cell_type": "code",
   "execution_count": 17,
   "metadata": {},
   "outputs": [
    {
     "data": {
      "image/png": "[encoded data removed]",
      "text/plain": [
       "<Figure size 432x288 with 1 Axes>"
      ]
     },
     "metadata": {
      "needs_background": "light"
     },
     "output_type": "display_data"
    }
   ],
   "source": [
    "#scatter plot\n",
    "plt.scatter(happiness_df[\"Ladder\"], happiness_df[\"Log of GDP\\nper capita\"], edgecolors=\"black\")\n",
    "plt.grid()\n",
    "\n",
    "plt.title(\"Log of GDP per capita vs Ladder\")\n",
    "plt.ylabel(\"Log of GDP\\nper capita\")\n",
    "plt.xlabel(\"Ladder\")\n",
    "plt.show()"
   ]
  },
  {
   "cell_type": "code",
   "execution_count": 18,
   "metadata": {},
   "outputs": [
    {
     "data": {
      "image/png": "[encoded data removed]",
      "text/plain": [
       "<Figure size 432x288 with 1 Axes>"
      ]
     },
     "metadata": {
      "needs_background": "light"
     },
     "output_type": "display_data"
    }
   ],
   "source": [
    "# plot generosity vs ladder\n",
    "plt.scatter(happiness_df[\"Ladder\"], happiness_df[\"Generosity\"], edgecolors=\"black\")\n",
    "plt.grid()\n",
    "\n",
    "plt.title(\"Generosity vs Ladder\")\n",
    "plt.ylabel(\"Generosity\")\n",
    "plt.xlabel(\"Ladder\")\n",
    "plt.show()"
   ]
  }
 ],
 "metadata": {
  "kernelspec": {
   "display_name": "Python 3",
   "language": "python",
   "name": "python3"
  },
  "language_info": {
   "codemirror_mode": {
    "name": "ipython",
    "version": 3
   },
   "file_extension": ".py",
   "mimetype": "text/x-python",
   "name": "python",
   "nbconvert_exporter": "python",
   "pygments_lexer": "ipython3",
   "version": "3.7.3"
  }
 },
 "nbformat": 4,
 "nbformat_minor": 2
}

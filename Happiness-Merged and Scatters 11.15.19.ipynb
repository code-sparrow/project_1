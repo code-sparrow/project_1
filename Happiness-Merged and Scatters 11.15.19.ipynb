{
 "cells": [
  {
   "cell_type": "code",
   "execution_count": null,
   "metadata": {},
   "outputs": [],
   "source": [
    "#Import Libraries\n",
    "import matplotlib.pyplot as plt\n",
    "import pandas as pd\n",
    "import numpy as np\n",
    "from scipy import stats\n",
    "from sklearn.linear_model import LinearRegression\n",
    "from sklearn.metrics import mean_squared_error, r2_score\n",
    "\n",
    "#File paths for CSV files\n",
    "happiness_path = \"Resources/world-happiness-report-2019 kaggle.csv\"\n",
    "pop_density_path = \"Resources/world population density data 2019.csv\"\n",
    "\n",
    "#Load dataframes\n",
    "happiness_df = pd.read_csv(happiness_path)\n",
    "pop_density_df = pd.read_csv(pop_density_path)"
   ]
  },
  {
   "cell_type": "code",
   "execution_count": null,
   "metadata": {},
   "outputs": [],
   "source": [
    "print(happiness_df.info(), \"\\n\")\n",
    "print(pop_density_df.info())"
   ]
  },
  {
   "cell_type": "code",
   "execution_count": null,
   "metadata": {},
   "outputs": [],
   "source": [
    "happiness_df.head()"
   ]
  },
  {
   "cell_type": "code",
   "execution_count": null,
   "metadata": {},
   "outputs": [],
   "source": [
    "pop_density_df.head()"
   ]
  },
  {
   "cell_type": "code",
   "execution_count": null,
   "metadata": {},
   "outputs": [],
   "source": [
    "#Cleaning Data\n",
    "happiness_df.rename(columns={\"Country (region)\" : \"Country\"}, inplace=True)\n",
    "pop_density_df.rename(columns={\"name\" : \"Country\"}, inplace=True)\n",
    "#Removing countries that have incomplete data per row \n",
    "happiness_df.dropna(inplace=True,how=\"any\")\n",
    "pop_density_df.dropna(inplace=True,how=\"any\")\n",
    "#Sort by Ladder \n",
    "happiness_df=happiness_df.sort_values(by='Ladder').reset_index(drop=True)\n",
    "#Merging Datasets\n",
    "merged_df = pd.merge(happiness_df, pop_density_df, on=\"Country\")\n",
    "#Sort by Ladder\n",
    "merged_df=merged_df.sort_values(by='Ladder').reset_index(drop=True)\n",
    "merged_df.head()"
   ]
  },
  {
   "cell_type": "code",
   "execution_count": null,
   "metadata": {},
   "outputs": [],
   "source": [
    "merged_df.info()"
   ]
  },
  {
   "cell_type": "code",
   "execution_count": null,
   "metadata": {},
   "outputs": [],
   "source": [
    "#Data frame with values we care about\n",
    "density_df = pd.DataFrame(merged_df, columns = ['Country', 'Ladder', 'density', 'pop2019', 'area'])\n",
    "density_df.head()"
   ]
  },
  {
   "cell_type": "code",
   "execution_count": null,
   "metadata": {},
   "outputs": [],
   "source": [
    "#grouping by max density\n",
    "max_df = merged_df.groupby(['Country', 'pop2019'])['density'].max()\n",
    "max_df.head()\n"
   ]
  },
  {
   "cell_type": "code",
   "execution_count": null,
   "metadata": {},
   "outputs": [],
   "source": [
    "#grouping by max ladder\n",
    "happiness_score_df = merged_df.groupby(['Country', 'density'])['Ladder'].max()\n",
    "happiness_chart_df = pd.DataFrame(happiness_score_df)\n",
    "happiness_chart_df.head()"
   ]
  },
  {
   "cell_type": "code",
   "execution_count": null,
   "metadata": {},
   "outputs": [],
   "source": [
    "#Finding the R-score for Density\n",
    "xlist = merged_df['Ladder'].tolist()\n",
    "ylist = merged_df['density'].tolist()\n",
    "slope, intercept, r_value, p_value, std_err = stats.linregress(xlist, ylist)\n",
    "ypred = []\n",
    "\n",
    "for x in xlist:\n",
    "    y = slope * x + intercept\n",
    "    ypred.append(y)\n",
    "\n",
    "\n",
    "r2_score(ylist, ypred)"
   ]
  },
  {
   "cell_type": "code",
   "execution_count": null,
   "metadata": {},
   "outputs": [],
   "source": [
    "#initiate the linear regression \n",
    "lm=LinearRegression()\n",
    "#fit on the data. It finds the line that minimizes the difference between the data points and the regression line\n",
    "model_fit=lm.fit(merged_df['Ladder'].values.reshape(-1,1),merged_df['density'].values.reshape(-1,1))\n",
    "\n",
    "f'slope: {model_fit.coef_},intercept: {model_fit.intercept_}'"
   ]
  },
  {
   "cell_type": "code",
   "execution_count": null,
   "metadata": {},
   "outputs": [],
   "source": [
    "#Fitted line\n",
    "preds=model_fit.predict(merged_df['Ladder'].values.reshape(-1,1))\n",
    "#reformat to plot it\n",
    "preds=[i for j in preds for i in j ]\n",
    "plt.scatter(merged_df['Ladder'],merged_df['density'])\n",
    "plt.grid()\n",
    "plt.title(\"Density vs Ladder\")\n",
    "plt.ylabel(\"Density\")\n",
    "plt.xlabel(\"Ladder\")\n",
    "plt.plot(preds,c='r')"
   ]
  },
  {
   "cell_type": "code",
   "execution_count": null,
   "metadata": {},
   "outputs": [],
   "source": [
    "#scatter plot\n",
    "plt.scatter(merged_df[\"Ladder\"], merged_df[\"density\"], edgecolors=\"black\")\n",
    "plt.grid()\n",
    "\n",
    "plt.title(\"Density vs Ladder\")\n",
    "plt.ylabel(\"density\")\n",
    "plt.xlabel(\"Ladder\")\n",
    "plt.show()"
   ]
  },
  {
   "cell_type": "code",
   "execution_count": null,
   "metadata": {},
   "outputs": [],
   "source": [
    "#Finding the R-score for Population 2019\n",
    "xlist = merged_df['Ladder'].tolist()\n",
    "ylist = merged_df['pop2019'].tolist()\n",
    "slope, intercept, r_value, p_value, std_err = stats.linregress(xlist, ylist)\n",
    "ypred = []\n",
    "\n",
    "for x in xlist:\n",
    "    y = slope * x + intercept\n",
    "    ypred.append(y)\n",
    "\n",
    "\n",
    "r2_score(ylist, ypred)"
   ]
  },
  {
   "cell_type": "code",
   "execution_count": null,
   "metadata": {},
   "outputs": [],
   "source": [
    "#initiate the linear regression \n",
    "lm=LinearRegression()\n",
    "#fit on the data. It finds the line that minimizes the difference between the data points and the regression line\n",
    "model_fit=lm.fit(merged_df['Ladder'].values.reshape(-1,1),merged_df['pop2019'].values.reshape(-1,1))\n",
    "\n",
    "f'slope: {model_fit.coef_},intercept: {model_fit.intercept_}'"
   ]
  },
  {
   "cell_type": "code",
   "execution_count": null,
   "metadata": {},
   "outputs": [],
   "source": [
    "#Fitted line\n",
    "preds=model_fit.predict(merged_df['Ladder'].values.reshape(-1,1))\n",
    "#reformat to plot it\n",
    "preds=[i for j in preds for i in j ]\n",
    "plt.scatter(merged_df['Ladder'],merged_df['pop2019'])\n",
    "plt.grid()\n",
    "plt.title(\"Population 2019 vs Ladder\")\n",
    "plt.ylabel(\"Population 2019\")\n",
    "plt.xlabel(\"Ladder\")\n",
    "plt.plot(preds,c='r')"
   ]
  },
  {
   "cell_type": "code",
   "execution_count": null,
   "metadata": {},
   "outputs": [],
   "source": [
    "#scatter plot\n",
    "plt.scatter(merged_df[\"Ladder\"], merged_df[\"pop2019\"], edgecolors=\"black\")\n",
    "plt.grid()\n",
    "\n",
    "plt.title(\"Population 2019 vs Ladder\")\n",
    "plt.ylabel(\"pop2019\")\n",
    "plt.xlabel(\"Ladder\")\n",
    "plt.show()"
   ]
  },
  {
   "cell_type": "code",
   "execution_count": null,
   "metadata": {},
   "outputs": [],
   "source": [
    "#Finding the R-score for Freedom\n",
    "xlist = happiness_df['Ladder'].tolist()\n",
    "ylist = happiness_df['Freedom'].tolist()\n",
    "slope, intercept, r_value, p_value, std_err = stats.linregress(xlist, ylist)\n",
    "ypred = []\n",
    "\n",
    "for x in xlist:\n",
    "    y = slope * x + intercept\n",
    "    ypred.append(y)\n",
    "\n",
    "\n",
    "r2_score(ylist, ypred)"
   ]
  },
  {
   "cell_type": "code",
   "execution_count": null,
   "metadata": {},
   "outputs": [],
   "source": [
    "#initiate the linear regression \n",
    "lm=LinearRegression()\n",
    "#fit on the data. It finds the line that minimizes the difference between the data points and the regression line\n",
    "model_fit=lm.fit(happiness_df['Ladder'].values.reshape(-1,1),happiness_df['Freedom'].values.reshape(-1,1))\n",
    "\n",
    "f'slope: {model_fit.coef_},intercept: {model_fit.intercept_}'"
   ]
  },
  {
   "cell_type": "code",
   "execution_count": null,
   "metadata": {},
   "outputs": [],
   "source": [
    "#Fitted line\n",
    "preds=model_fit.predict(happiness_df['Ladder'].values.reshape(-1,1))\n",
    "#reformat to plot it\n",
    "preds=[i for j in preds for i in j ]\n",
    "plt.scatter(happiness_df['Ladder'],happiness_df['Freedom'])\n",
    "plt.grid()\n",
    "plt.title(\"Freedom vs Ladder\")\n",
    "plt.ylabel(\"Freedom\")\n",
    "plt.xlabel(\"Ladder\")\n",
    "plt.plot(preds,c='r')"
   ]
  },
  {
   "cell_type": "code",
   "execution_count": null,
   "metadata": {},
   "outputs": [],
   "source": [
    "#scatter plot\n",
    "plt.scatter(happiness_df[\"Ladder\"], happiness_df[\"Freedom\"], edgecolors=\"black\")\n",
    "plt.grid()\n",
    "\n",
    "plt.title(\"Freedom vs Ladder\")\n",
    "plt.ylabel(\"Freedom\")\n",
    "plt.xlabel(\"Ladder\")\n",
    "plt.show()"
   ]
  },
  {
   "cell_type": "code",
   "execution_count": null,
   "metadata": {},
   "outputs": [],
   "source": [
    "#Finding the R-score for Social Support\n",
    "\n",
    "xlist = happiness_df['Ladder'].tolist()\n",
    "ylist = happiness_df['Social support'].tolist()\n",
    "slope, intercept, r_value, p_value, std_err = stats.linregress(xlist, ylist)\n",
    "ypred = []\n",
    "\n",
    "for x in xlist:\n",
    "    y = slope * x + intercept\n",
    "    ypred.append(y)\n",
    "\n",
    "\n",
    "r2_score(ylist, ypred)"
   ]
  },
  {
   "cell_type": "code",
   "execution_count": null,
   "metadata": {},
   "outputs": [],
   "source": [
    "#initiate the linear regression \n",
    "lm=LinearRegression()\n",
    "#fit on the data. It finds the line that minimizes the difference between the data points and the regression line\n",
    "model_fit=lm.fit(happiness_df['Ladder'].values.reshape(-1,1),happiness_df['Social support'].values.reshape(-1,1))\n",
    "\n",
    "f'slope: {model_fit.coef_},intercept: {model_fit.intercept_}'"
   ]
  },
  {
   "cell_type": "code",
   "execution_count": null,
   "metadata": {},
   "outputs": [],
   "source": [
    "#Fitted line\n",
    "preds=model_fit.predict(happiness_df['Ladder'].values.reshape(-1,1))\n",
    "#reformat to plot it\n",
    "preds=[i for j in preds for i in j ]\n",
    "plt.scatter(happiness_df['Ladder'],happiness_df['Social support'])\n",
    "plt.grid()\n",
    "plt.title(\"Social Support vs Ladder\")\n",
    "plt.ylabel(\"Social Support\")\n",
    "plt.xlabel(\"Ladder\")\n",
    "plt.plot(preds,c='r')"
   ]
  },
  {
   "cell_type": "code",
   "execution_count": null,
   "metadata": {},
   "outputs": [],
   "source": [
    "#scatter plot\n",
    "plt.scatter(happiness_df[\"Ladder\"], happiness_df[\"Social support\"], edgecolors=\"black\")\n",
    "plt.grid()\n",
    "\n",
    "plt.title(\"Social support vs Ladder\")\n",
    "plt.ylabel(\"Social support\")\n",
    "plt.xlabel(\"Ladder\")\n",
    "plt.show()"
   ]
  },
  {
   "cell_type": "code",
   "execution_count": null,
   "metadata": {},
   "outputs": [],
   "source": [
    "#Finding the R-score for Healthy Life Expectancy\n",
    "xlist = happiness_df['Ladder'].tolist()\n",
    "ylist = happiness_df['Healthy life\\nexpectancy'].tolist()\n",
    "slope, intercept, r_value, p_value, std_err = stats.linregress(xlist, ylist)\n",
    "ypred = []\n",
    "\n",
    "for x in xlist:\n",
    "    y = slope * x + intercept\n",
    "    ypred.append(y)\n",
    "\n",
    "\n",
    "r2_score(ylist, ypred)"
   ]
  },
  {
   "cell_type": "code",
   "execution_count": null,
   "metadata": {},
   "outputs": [],
   "source": [
    "#initiate the linear regression \n",
    "lm=LinearRegression()\n",
    "#fit on the data. It finds the line that minimizes the difference between the data points and the regression line\n",
    "model_fit=lm.fit(happiness_df['Ladder'].values.reshape(-1,1),happiness_df['Healthy life\\nexpectancy'].values.reshape(-1,1))\n",
    " \n",
    "f'slope: {model_fit.coef_},intercept: {model_fit.intercept_}'"
   ]
  },
  {
   "cell_type": "code",
   "execution_count": null,
   "metadata": {},
   "outputs": [],
   "source": [
    "#Fitted line\n",
    "preds=model_fit.predict(happiness_df['Ladder'].values.reshape(-1,1))\n",
    "#reformat to plot it\n",
    "preds=[i for j in preds for i in j ]\n",
    "plt.scatter(happiness_df['Ladder'],happiness_df['Healthy life\\nexpectancy'])\n",
    "plt.grid()\n",
    "plt.title(\"Healthy Life Expectancy vs Ladder\")\n",
    "plt.ylabel(\"Healthy Life Expectancy\")\n",
    "plt.xlabel(\"Ladder\")\n",
    "plt.plot(preds,c='r')"
   ]
  },
  {
   "cell_type": "code",
   "execution_count": null,
   "metadata": {},
   "outputs": [],
   "source": [
    "#scatter plot\n",
    "plt.scatter(happiness_df[\"Ladder\"], happiness_df[\"Healthy life\\nexpectancy\"], edgecolors=\"black\")\n",
    "plt.grid()\n",
    "\n",
    "plt.title(\"Health Expectancy vs Ladder\")\n",
    "plt.ylabel(\"Health Expectancy\")\n",
    "plt.xlabel(\"Ladder\")\n",
    "plt.show()"
   ]
  },
  {
   "cell_type": "code",
   "execution_count": null,
   "metadata": {},
   "outputs": [],
   "source": [
    "#Finding the R-score for Corruption\n",
    "xlist = happiness_df['Ladder'].tolist()\n",
    "ylist = happiness_df['Corruption'].tolist()\n",
    "slope, intercept, r_value, p_value, std_err = stats.linregress(xlist, ylist)\n",
    "ypred = []\n",
    "\n",
    "for x in xlist:\n",
    "    y = slope * x + intercept\n",
    "    ypred.append(y)\n",
    "\n",
    "\n",
    "r2_score(ylist, ypred)"
   ]
  },
  {
   "cell_type": "code",
   "execution_count": null,
   "metadata": {},
   "outputs": [],
   "source": [
    "#initiate the linear regression \n",
    "lm=LinearRegression()\n",
    "#fit on the data. It finds the line that minimizes the difference between the data points and the regression line\n",
    "model_fit=lm.fit(happiness_df['Ladder'].values.reshape(-1,1),happiness_df['Corruption'].values.reshape(-1,1))\n",
    "\n",
    "f'slope: {model_fit.coef_},intercept: {model_fit.intercept_}'"
   ]
  },
  {
   "cell_type": "code",
   "execution_count": null,
   "metadata": {},
   "outputs": [],
   "source": [
    "#Fitted line\n",
    "preds=model_fit.predict(happiness_df['Ladder'].values.reshape(-1,1))\n",
    "#reformat to plot it\n",
    "preds=[i for j in preds for i in j ]\n",
    "plt.scatter(happiness_df['Ladder'],happiness_df['Corruption'])\n",
    "plt.grid()\n",
    "plt.title(\"Corruption vs Ladder\")\n",
    "plt.ylabel(\"Corruption\")\n",
    "plt.xlabel(\"Ladder\")\n",
    "plt.plot(preds,c='r')"
   ]
  },
  {
   "cell_type": "code",
   "execution_count": null,
   "metadata": {},
   "outputs": [],
   "source": [
    "#scatter plot\n",
    "plt.scatter(happiness_df[\"Ladder\"], happiness_df[\"Corruption\"], edgecolors=\"black\")\n",
    "plt.grid()\n",
    "\n",
    "plt.title(\"Corruption vs Ladder\")\n",
    "plt.ylabel(\"Corruption\")\n",
    "plt.xlabel(\"Ladder\")\n",
    "plt.show()"
   ]
  },
  {
   "cell_type": "code",
   "execution_count": null,
   "metadata": {},
   "outputs": [],
   "source": [
    "#Finding the R-score for GDP per Capita\n",
    "xlist = happiness_df['Ladder'].tolist()\n",
    "ylist = happiness_df['Log of GDP\\nper capita'].tolist()\n",
    "slope, intercept, r_value, p_value, std_err = stats.linregress(xlist, ylist)\n",
    "ypred = []\n",
    "\n",
    "for x in xlist:\n",
    "    y = slope * x + intercept\n",
    "    ypred.append(y)\n",
    "\n",
    "\n",
    "r2_score(ylist, ypred)"
   ]
  },
  {
   "cell_type": "code",
   "execution_count": null,
   "metadata": {},
   "outputs": [],
   "source": [
    "#initiate the linear regression \n",
    "lm=LinearRegression()\n",
    "#fit on the data. It finds the line that minimizes the difference between the data points and the regression line\n",
    "model_fit=lm.fit(happiness_df['Ladder'].values.reshape(-1,1),happiness_df['Log of GDP\\nper capita'].values.reshape(-1,1))\n",
    "\n",
    "f'slope: {model_fit.coef_},intercept: {model_fit.intercept_}'\n"
   ]
  },
  {
   "cell_type": "code",
   "execution_count": null,
   "metadata": {},
   "outputs": [],
   "source": [
    "#Fitted line\n",
    "preds=model_fit.predict(happiness_df['Ladder'].values.reshape(-1,1))\n",
    "#reformat to plot it\n",
    "preds=[i for j in preds for i in j ]\n",
    "plt.scatter(happiness_df['Ladder'],happiness_df['Log of GDP\\nper capita'])\n",
    "plt.grid()\n",
    "plt.title(\"Log of GDP\\nper capita vs Ladder\")\n",
    "plt.ylabel(\"Log of GDP\\nper capita\")\n",
    "plt.xlabel(\"Ladder\")\n",
    "plt.plot(preds,c='r')\n"
   ]
  },
  {
   "cell_type": "code",
   "execution_count": null,
   "metadata": {},
   "outputs": [],
   "source": [
    "#scatter plot\n",
    "plt.scatter(happiness_df[\"Ladder\"], happiness_df[\"Log of GDP\\nper capita\"], edgecolors=\"black\")\n",
    "plt.grid()\n",
    "\n",
    "plt.title(\"Log of GDP per capita vs Ladder\")\n",
    "plt.ylabel(\"Log of GDP\\nper capita\")\n",
    "plt.xlabel(\"Ladder\")\n",
    "plt.show()"
   ]
  },
  {
   "cell_type": "code",
   "execution_count": null,
   "metadata": {},
   "outputs": [],
   "source": [
    "#Finding the R-score for Generosity\n",
    "xlist = happiness_df['Ladder'].tolist()\n",
    "ylist = happiness_df['Generosity'].tolist()\n",
    "slope, intercept, r_value, p_value, std_err = stats.linregress(xlist, ylist)\n",
    "ypred = []\n",
    "\n",
    "for x in xlist:\n",
    "    y = slope * x + intercept\n",
    "    ypred.append(y)\n",
    "\n",
    "\n",
    "r2_score(ylist, ypred)"
   ]
  },
  {
   "cell_type": "code",
   "execution_count": null,
   "metadata": {},
   "outputs": [],
   "source": [
    "#initiate the linear regression \n",
    "lm=LinearRegression()\n",
    "#fit on the data. It finds the line that minimizes the difference between the data points and the regression line\n",
    "model_fit=lm.fit(happiness_df['Ladder'].values.reshape(-1,1),happiness_df['Generosity'].values.reshape(-1,1))\n",
    "\n",
    "f'slope: {model_fit.coef_},intercept: {model_fit.intercept_}'"
   ]
  },
  {
   "cell_type": "code",
   "execution_count": null,
   "metadata": {},
   "outputs": [],
   "source": [
    "#Fitted line\n",
    "preds=model_fit.predict(happiness_df['Ladder'].values.reshape(-1,1))\n",
    "#reformat to plot it\n",
    "preds=[i for j in preds for i in j ]\n",
    "plt.scatter(happiness_df['Ladder'],happiness_df['Generosity'])\n",
    "plt.grid()\n",
    "plt.title(\"Generosity vs Ladder\")\n",
    "plt.ylabel(\"Generosity\")\n",
    "plt.xlabel(\"Ladder\")\n",
    "plt.plot(preds,c='r')"
   ]
  },
  {
   "cell_type": "code",
   "execution_count": null,
   "metadata": {},
   "outputs": [],
   "source": [
    "#scatter plot\n",
    "plt.scatter(happiness_df[\"Ladder\"], happiness_df[\"Generosity\"], edgecolors=\"black\")\n",
    "plt.grid()\n",
    "\n",
    "plt.title(\"Generosity vs Ladder\")\n",
    "plt.ylabel(\"Generosity\")\n",
    "plt.xlabel(\"Ladder\")\n",
    "plt.show()"
   ]
  }
 ],
 "metadata": {
  "kernelspec": {
   "display_name": "Python 3",
   "language": "python",
   "name": "python3"
  },
  "language_info": {
   "codemirror_mode": {
    "name": "ipython",
    "version": 3
   },
   "file_extension": ".py",
   "mimetype": "text/x-python",
   "name": "python",
   "nbconvert_exporter": "python",
   "pygments_lexer": "ipython3",
   "version": "3.7.3"
  }
 },
 "nbformat": 4,
 "nbformat_minor": 2
}
